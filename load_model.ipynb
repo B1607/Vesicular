{
 "cells": [
  {
   "cell_type": "code",
   "execution_count": 4,
   "id": "50e4f99c-a711-41e4-a588-681118d80f68",
   "metadata": {},
   "outputs": [],
   "source": [
    "import tensorflow as tf\n",
    "import numpy as np\n",
    "from sklearn import metrics"
   ]
  },
  {
   "cell_type": "code",
   "execution_count": 2,
   "id": "d8990a95-49b4-4955-98fb-d3e6c37c96ab",
   "metadata": {},
   "outputs": [],
   "source": [
    "def predict(x_test, y_test, threshold):\n",
    "    pred_test = model.predict(x_test[0:])\n",
    "    threshold = threshold\n",
    "\n",
    "    y_pred = (pred_test[:, 1] >= threshold).astype(int)\n",
    "    # print(y_pred)\n",
    "\n",
    "    TN, FP, FN, TP =  metrics.confusion_matrix(y_test[0:][:,1], y_pred).ravel()\n",
    "    print(f\"TP={TP}, FP={FP}, TN={TN}, FN={FN}\")\n"
   ]
  },
  {
   "cell_type": "markdown",
   "id": "7acea61c-55c9-463c-b5e1-cec819ffb9c9",
   "metadata": {},
   "source": [
    "# load model"
   ]
  },
  {
   "cell_type": "code",
   "execution_count": 2,
   "id": "a2f9fc75-c143-461b-9d1a-af4f42e7423d",
   "metadata": {
    "scrolled": true
   },
   "outputs": [
    {
     "name": "stderr",
     "output_type": "stream",
     "text": [
      "2024-08-03 22:24:30.778180: I tensorflow/compiler/xla/stream_executor/cuda/cuda_gpu_executor.cc:996] successful NUMA node read from SysFS had negative value (-1), but there must be at least one NUMA node, so returning NUMA node zero. See more at https://github.com/torvalds/linux/blob/v6.0/Documentation/ABI/testing/sysfs-bus-pci#L344-L355\n",
      "2024-08-03 22:24:30.810265: I tensorflow/compiler/xla/stream_executor/cuda/cuda_gpu_executor.cc:996] successful NUMA node read from SysFS had negative value (-1), but there must be at least one NUMA node, so returning NUMA node zero. See more at https://github.com/torvalds/linux/blob/v6.0/Documentation/ABI/testing/sysfs-bus-pci#L344-L355\n",
      "2024-08-03 22:24:30.810368: I tensorflow/compiler/xla/stream_executor/cuda/cuda_gpu_executor.cc:996] successful NUMA node read from SysFS had negative value (-1), but there must be at least one NUMA node, so returning NUMA node zero. See more at https://github.com/torvalds/linux/blob/v6.0/Documentation/ABI/testing/sysfs-bus-pci#L344-L355\n",
      "2024-08-03 22:24:30.811669: I tensorflow/compiler/xla/stream_executor/cuda/cuda_gpu_executor.cc:996] successful NUMA node read from SysFS had negative value (-1), but there must be at least one NUMA node, so returning NUMA node zero. See more at https://github.com/torvalds/linux/blob/v6.0/Documentation/ABI/testing/sysfs-bus-pci#L344-L355\n",
      "2024-08-03 22:24:30.811779: I tensorflow/compiler/xla/stream_executor/cuda/cuda_gpu_executor.cc:996] successful NUMA node read from SysFS had negative value (-1), but there must be at least one NUMA node, so returning NUMA node zero. See more at https://github.com/torvalds/linux/blob/v6.0/Documentation/ABI/testing/sysfs-bus-pci#L344-L355\n",
      "2024-08-03 22:24:30.811833: I tensorflow/compiler/xla/stream_executor/cuda/cuda_gpu_executor.cc:996] successful NUMA node read from SysFS had negative value (-1), but there must be at least one NUMA node, so returning NUMA node zero. See more at https://github.com/torvalds/linux/blob/v6.0/Documentation/ABI/testing/sysfs-bus-pci#L344-L355\n",
      "2024-08-03 22:24:31.131537: I tensorflow/compiler/xla/stream_executor/cuda/cuda_gpu_executor.cc:996] successful NUMA node read from SysFS had negative value (-1), but there must be at least one NUMA node, so returning NUMA node zero. See more at https://github.com/torvalds/linux/blob/v6.0/Documentation/ABI/testing/sysfs-bus-pci#L344-L355\n",
      "2024-08-03 22:24:31.131655: I tensorflow/compiler/xla/stream_executor/cuda/cuda_gpu_executor.cc:996] successful NUMA node read from SysFS had negative value (-1), but there must be at least one NUMA node, so returning NUMA node zero. See more at https://github.com/torvalds/linux/blob/v6.0/Documentation/ABI/testing/sysfs-bus-pci#L344-L355\n",
      "2024-08-03 22:24:31.131718: I tensorflow/compiler/xla/stream_executor/cuda/cuda_gpu_executor.cc:996] successful NUMA node read from SysFS had negative value (-1), but there must be at least one NUMA node, so returning NUMA node zero. See more at https://github.com/torvalds/linux/blob/v6.0/Documentation/ABI/testing/sysfs-bus-pci#L344-L355\n",
      "2024-08-03 22:24:31.131771: I tensorflow/core/common_runtime/gpu/gpu_device.cc:1635] Created device /job:localhost/replica:0/task:0/device:GPU:0 with 22054 MB memory:  -> device: 0, name: NVIDIA GeForce RTX 3090 Ti, pci bus id: 0000:01:00.0, compute capability: 8.6\n"
     ]
    }
   ],
   "source": [
    "folder = \"old_vesicular\"\n",
    "length = 500\n",
    "dim =  1280\n",
    "TYPE = 'esm2'\n",
    "model = tf.keras.models.load_model(f\"{folder}/save_model/L{length}_d{dim}_{TYPE}\")\n"
   ]
  },
  {
   "cell_type": "markdown",
   "id": "808e5717-fe00-47f2-bffa-bb7cf785bfd3",
   "metadata": {},
   "source": [
    "# load test and load threshold"
   ]
  },
  {
   "cell_type": "code",
   "execution_count": 5,
   "id": "50aea888-d434-4cd1-a82a-c4c897d8b39b",
   "metadata": {},
   "outputs": [
    {
     "name": "stdout",
     "output_type": "stream",
     "text": [
      "(18, 1, 500, 1280)\n",
      "(18, 2)\n",
      "0.05050889775156975\n"
     ]
    }
   ],
   "source": [
    "test_npz = np.load(f\"L500_d1280_t18_esm2.npz\")\n",
    "\n",
    "x_test = test_npz[\"feature\"]\n",
    "y_test = test_npz[\"label\"]\n",
    "\n",
    "print(x_test.shape)\n",
    "print(y_test.shape)\n",
    "\n",
    "threshold = np.load(f\"{folder}/threshold/{TYPE}_d{dim}_threshold.npy\")\n",
    "print(threshold)"
   ]
  },
  {
   "cell_type": "markdown",
   "id": "85db3d97-efed-4c3a-9eb1-347db64ceff5",
   "metadata": {},
   "source": [
    "# pred"
   ]
  },
  {
   "cell_type": "code",
   "execution_count": 8,
   "id": "8d41b8f7-afd7-4f75-9bc1-e53089a6e267",
   "metadata": {},
   "outputs": [
    {
     "name": "stdout",
     "output_type": "stream",
     "text": [
      "1/1 [==============================] - 0s 14ms/step\n",
      "TP=15, FP=0, TN=0, FN=3\n"
     ]
    }
   ],
   "source": [
    "predict(x_test, y_test, threshold)"
   ]
  }
 ],
 "metadata": {
  "kernelspec": {
   "display_name": "Python 3 (ipykernel)",
   "language": "python",
   "name": "python3"
  },
  "language_info": {
   "codemirror_mode": {
    "name": "ipython",
    "version": 3
   },
   "file_extension": ".py",
   "mimetype": "text/x-python",
   "name": "python",
   "nbconvert_exporter": "python",
   "pygments_lexer": "ipython3",
   "version": "3.9.17"
  }
 },
 "nbformat": 4,
 "nbformat_minor": 5
}
