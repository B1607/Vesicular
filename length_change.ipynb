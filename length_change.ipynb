{
 "cells": [
  {
   "cell_type": "code",
   "execution_count": 1,
   "id": "997ff019-4d0b-4b45-ae92-6c53b0feeb4b",
   "metadata": {
    "tags": []
   },
   "outputs": [],
   "source": [
    "import os\n",
    "import glob\n",
    "import numpy as np\n",
    "\n",
    "from tqdm import tqdm\n"
   ]
  },
  {
   "cell_type": "markdown",
   "id": "7a3fea00-a3a8-4b83-8cf9-9a1ec881bef6",
   "metadata": {},
   "source": [
    "# length_change"
   ]
  },
  {
   "cell_type": "code",
   "execution_count": 2,
   "id": "c589a428-abbf-47e1-84c7-ffcc38caca31",
   "metadata": {
    "tags": []
   },
   "outputs": [],
   "source": [
    "def get_feature(input_dir, output_dir,  lenght, dim, pca_model=\"None\"):\n",
    "    # mkdir\n",
    "    if not os.path.exists(output_dir):\n",
    "        os.makedirs(output_dir)\n",
    "        \n",
    "    for i in tqdm(input_dir, desc=\"Processing\", unit=\"file\"):\n",
    "        name = os.path.basename(i).split(\".\")[0]\n",
    "        save_path = os.path.join(output_dir, name)\n",
    "\n",
    "        if dim == 768:\n",
    "            data = np.load(i).reshape(1, -1, dim)\n",
    "        else:\n",
    "            data = np.loadtxt(i).reshape(1, -1, dim)\n",
    "\n",
    "            \n",
    "        if data.shape[1] < lenght:\n",
    "            lenght_pad = lenght - data.shape[1]\n",
    "            data_pad = np.pad(data, [(0,0), (0,lenght_pad), (0,0)], mode='constant', constant_values=0)\n",
    "            np.save(save_path, data_pad)\n",
    "            \n",
    "        elif data.shape[1] > lenght:\n",
    "            data_resize = data[:, :lenght, :]\n",
    "            np.save(save_path, data_resize)\n",
    "    \n",
    "        else:\n",
    "            np.save(save_path, data)\n",
    "            "
   ]
  },
  {
   "cell_type": "code",
   "execution_count": 4,
   "id": "c51be126-ce4a-4379-8bc3-d9d475260bee",
   "metadata": {
    "tags": []
   },
   "outputs": [
    {
     "name": "stdout",
     "output_type": "stream",
     "text": [
      "18\n",
      "0\n",
      "0\n",
      "0\n",
      "0\n"
     ]
    },
    {
     "name": "stderr",
     "output_type": "stream",
     "text": [
      "Processing: 100%|█████████████████████████████| 18/18 [00:00<00:00, 35.30file/s]\n"
     ]
    }
   ],
   "source": [
    "# 1024 or 768 or 1280\n",
    "dim = 1280\n",
    "\n",
    "lenght = 500\n",
    "\n",
    "# \"pt\" or \"tape\" or \"esm2\"\n",
    "FEATURE = \"esm2\"\n",
    "\n",
    "\n",
    "\"---------------------------- input dir ----------------------------\"\n",
    "# ProtTrans\n",
    "if FEATURE == \"pt\":\n",
    "    tr_train = glob.glob(\"PT_out/PT_d1024/vt/train/*\")\n",
    "    tr_test = glob.glob(\"PT_out/PT_d1024/vt/test/*\")\n",
    "    me_train = glob.glob(\"PT_out/PT_d1024/me/train/*\")\n",
    "    me_test = glob.glob(\"PT_out/PT_d1024/me/test/*\")\n",
    "\n",
    "# TAPE\n",
    "elif FEATURE == \"tape\":\n",
    "    tr_train = glob.glob(\"TAPE_out/tape_d768/vt/train/*\")\n",
    "    tr_test = glob.glob(\"TAPE_out/tape_d768/vt/test/*\")\n",
    "    me_train = glob.glob(\"TAPE_out/tape_d768/me/train/*\")\n",
    "    me_test = glob.glob(\"TAPE_out/tape_d768/me/test/*\")\n",
    "\n",
    "# esm\n",
    "elif FEATURE == \"esm2\" or FEATURE == \"esm1b\":\n",
    "    tr_train = glob.glob(f\"ESM_out/{FEATURE}_d{dim}_L{lenght}/vt/train/*\")\n",
    "    tr_test = glob.glob(f\"ESM_out/{FEATURE}_d{dim}_L{lenght}/vt/test/*\")\n",
    "    me_train = glob.glob(f\"ESM_out/{FEATURE}_d{dim}_L{lenght}/me/train/*\")\n",
    "    me_test = glob.glob(f\"ESM_out/{FEATURE}_d{dim}_L{lenght}/me/test/*\")\n",
    "\n",
    "    tr_t18 = glob.glob(f\"ESM_out/new_18_vesicular/*\")\n",
    "\n",
    "    print(len(tr_t18))\n",
    "    \n",
    "print(len(tr_train))\n",
    "print(len(tr_test))\n",
    "print(len(me_train))\n",
    "print(len(me_test))\n",
    "\n",
    "\n",
    "\"---------------------------- output dir ----------------------------\"\n",
    "# tr_train_out = f\"get_feature/{FEATURE}_d{dim}_L{lenght}/vt/train/\"\n",
    "# tr_test_out = f\"get_feature/{FEATURE}_d{dim}_L{lenght}/vt/test/\"\n",
    "# me_train_out = f\"get_feature/{FEATURE}_d{dim}_L{lenght}/me/train/\"\n",
    "# me_test_out = f\"get_feature/{FEATURE}_d{dim}_L{lenght}/me/test/\"\n",
    "\n",
    "tr_t18_out = f\"get_feature/{FEATURE}_d{dim}_L{lenght}/vt/t18/\"\n",
    "\"---------------------------- funtion ----------------------------\"\n",
    "# get_feature(tr_train, tr_train_out, lenght, dim)\n",
    "# get_feature(tr_test, tr_test_out, lenght, dim)\n",
    "\n",
    "# get_feature(me_train, me_train_out, lenght, dim)\n",
    "# get_feature(me_test, me_test_out, lenght, dim)\n",
    "\n",
    "get_feature(tr_t18, tr_t18_out, lenght, dim)"
   ]
  },
  {
   "cell_type": "markdown",
   "id": "7a0a9580-b431-468b-9da1-59676b9ce092",
   "metadata": {},
   "source": [
    "# check"
   ]
  },
  {
   "cell_type": "code",
   "execution_count": 6,
   "id": "c493b2ea-f560-443e-b37a-84e2fd7701e3",
   "metadata": {},
   "outputs": [
    {
     "data": {
      "text/plain": [
       "(1, 500, 1280)"
      ]
     },
     "execution_count": 6,
     "metadata": {},
     "output_type": "execute_result"
    }
   ],
   "source": [
    "a = np.load(\"get_feature/esm2_d1280_L500/vt/t18/A0A1D8PDV7.npy\")\n",
    "a.shape"
   ]
  }
 ],
 "metadata": {
  "kernelspec": {
   "display_name": "Python 3 (ipykernel)",
   "language": "python",
   "name": "python3"
  },
  "language_info": {
   "codemirror_mode": {
    "name": "ipython",
    "version": 3
   },
   "file_extension": ".py",
   "mimetype": "text/x-python",
   "name": "python",
   "nbconvert_exporter": "python",
   "pygments_lexer": "ipython3",
   "version": "3.9.17"
  }
 },
 "nbformat": 4,
 "nbformat_minor": 5
}
